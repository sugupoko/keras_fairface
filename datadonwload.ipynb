{
 "cells": [
  {
   "cell_type": "code",
   "execution_count": null,
   "id": "c6b4c2f5-1541-4257-938d-bb08864a3b24",
   "metadata": {},
   "outputs": [],
   "source": [
    "# https://note.com/novajun/n/n35a25c97abc6"
   ]
  },
  {
   "cell_type": "code",
   "execution_count": 2,
   "id": "fabbf4a8-69be-4ad4-9032-cc2d99819be3",
   "metadata": {},
   "outputs": [],
   "source": [
    "# !unzip fairface-img-margin025-trainval.zip"
   ]
  }
 ],
 "metadata": {
  "kernelspec": {
   "display_name": "Python 3",
   "language": "python",
   "name": "python3"
  },
  "language_info": {
   "codemirror_mode": {
    "name": "ipython",
    "version": 3
   },
   "file_extension": ".py",
   "mimetype": "text/x-python",
   "name": "python",
   "nbconvert_exporter": "python",
   "pygments_lexer": "ipython3",
   "version": "3.8.10"
  }
 },
 "nbformat": 4,
 "nbformat_minor": 5
}
